{
 "cells": [
  {
   "cell_type": "markdown",
   "id": "a77a27c9",
   "metadata": {},
   "source": [
    "# Regular Languages and Automata\n",
    "\n",
    "\n",
    "**Objectives:**\n",
    "1. Familiarize with graph representation of finite automata. \n",
    "\n",
    "2. Implement basic operations on finite automaton. \n",
    "\n",
    "3. Practice elementary proof techniques.\n",
    "\n",
    "\n",
    "**Reading:** Chap. 1. \n",
    "\n",
    "\n",
    "**Questions:**\n",
    "1. What is a state in finite automaton? What is a `dead` state? In our work, we generally refer to a dead state as a `sink` state.\n",
    "\n",
    "2. What is an alphabet? What is a string? What is a language?\n",
    "\n",
    "3. What is an incomplete automaton? How to complete an incomplete automaton?\n",
    "\n",
    "4. What is a regular language? What other types of languages exist? "
   ]
  },
  {
   "cell_type": "code",
   "execution_count": null,
   "id": "5862bbc7",
   "metadata": {},
   "outputs": [],
   "source": []
  }
 ],
 "metadata": {
  "kernelspec": {
   "display_name": "Python 3 (ipykernel)",
   "language": "python",
   "name": "python3"
  },
  "language_info": {
   "codemirror_mode": {
    "name": "ipython",
    "version": 3
   },
   "file_extension": ".py",
   "mimetype": "text/x-python",
   "name": "python",
   "nbconvert_exporter": "python",
   "pygments_lexer": "ipython3",
   "version": "3.7.3"
  }
 },
 "nbformat": 4,
 "nbformat_minor": 5
}
