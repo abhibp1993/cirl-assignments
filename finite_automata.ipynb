{
 "cells": [
  {
   "cell_type": "markdown",
   "id": "a77a27c9",
   "metadata": {},
   "source": [
    "# Deterministic Finite Automata (DFA)\n",
    "\n",
    "\n",
    "## Introduction\n",
    "In this notebook, we will see how to use `ggsolver` library to define and operate on DFAs. `ggsolver` is a python library being developed at CIRL that implements algorithms to synthesize winning strategies in two-player games on graphs. It consists  two packages:\n",
    "* `ggsolver`: data structures and algorithms to represent and solve games on graph.\n",
    "* `parsers`: different formal languages, their grammars and automata theoretic representations. \n",
    "\n",
    "\n",
    "**Installation:** Follow instructions on https://github.com/abhibp1993/cirl-assignments.\n",
    "\n",
    "\n",
    "## Background\n",
    "\n",
    "**Reading:** Chap. 1 and Section 2.1 from \"Introduction to Automata Theory, Languages and Computation\" book. \n",
    "\n",
    "\n",
    "**Recall:**\n",
    "1. What is a state in finite automaton? What is a `dead` state? In our work, we generally refer to a dead state as a `sink` state.\n",
    "\n",
    "2. What is an alphabet? What is a string? What is a language?\n",
    "\n",
    "3. What is an incomplete automaton? How to complete an incomplete automaton?\n",
    "\n",
    "4. What is a regular language? What other types of languages exist? \n",
    "\n",
    "\n",
    "**Graphs.**\n",
    "\n",
    "We extensively use graphs to represent automata and game objects in `ggsolver`. In most cases, we will use `networkx.MultiDiGraph` to represent graphs. Basic familiarity with graph theory is assumed. \n",
    "\n",
    "*References*: \n",
    "* Tutorial: https://networkx.org/documentation/stable/tutorial.html\n",
    "* API reference (`networkx.MultiDiGraph`):   https://networkx.org/documentation/stable/reference/classes/multidigraph.html#networkx.MultiDiGraph\n",
    "\n",
    "\n",
    "##  General Philosophy in `ggsolver` \n",
    "\n",
    "Since `ggsolver` implements algorithms that operate on large automata and games on graphs (>10^5 nodes and edges), we need to keep memory and time complexity in mind while writing code. Thus, `ggsolver` defines two approaches or modes to define automata and games, namely `EXPLICIT` and `SYMBOLIC`. \n",
    "\n",
    "In `EXPLICIT` mode, an automaton is defined using its underlying graph. \n",
    "$$ \\mathcal{A} = \\langle G, q_0, F \\rangle $$\n",
    "\n",
    "In `SYMBOLIC` mode, an automaton is defined using the set of states and the transition function. \n",
    "$$ \\mathcal{A} = \\langle Q, \\Sigma, \\delta, q_0, F \\rangle $$\n",
    "\n",
    "Note that both modes can represent same automata However, `SYMBOLIC` mode is memory efficient and time inefficient since it does not store edges but instead generates them on-the-fly using transition function. Whereas, the `EXPLICIT` mode is time efficient but memory inefficient since it stores the edges explicitly, which can then be efficiently accessed. \n"
   ]
  },
  {
   "attachments": {
    "image.png": {
     "image/png": "[encoded data removed]"
    }
   },
   "cell_type": "markdown",
   "id": "4bb4c50e",
   "metadata": {},
   "source": [
    "## Example. \n",
    "\n",
    "We first show how to define automaton in `EXPLICIT` and `SYMBOLIC` modes. Consider the automaton as shown below. \n",
    "![image.png](attachment:image.png)"
   ]
  },
  {
   "cell_type": "code",
   "execution_count": 1,
   "id": "5862bbc7",
   "metadata": {},
   "outputs": [],
   "source": [
    "import sys\n",
    "sys.path.extend(['/home/ggsolver', '/home/cirl-assignments'])\n",
    "\n",
    "import parsers\n",
    "import networkx as nx\n",
    "import logging\n",
    "logging.basicConfig(format=\"%(levelname)s:%(filename)s:%(lineno)d:%(message)s\",\n",
    "                   level=logging.INFO)"
   ]
  },
  {
   "cell_type": "code",
   "execution_count": 2,
   "id": "0f8f4be4",
   "metadata": {},
   "outputs": [],
   "source": [
    "# EXPLICIT MODE\n",
    "\n",
    "# 1. Create a networkx multi digraph that represents the underlying graph of DFA. \n",
    "graph = nx.MultiDiGraph()\n",
    "\n",
    "# 2. Add nodes and edges to graph. \n",
    "#    Here, we can add nodes and edges one-by-one using `add_node, add_edge` methods. \n",
    "#    Or we can add them all at once using following methods. \n",
    "graph.add_nodes_from([0, 1, 2, 3])\n",
    "graph.add_edges_from([\n",
    "    (0, 2, {\"symbol\": {0}}),\n",
    "    (0, 1, {\"symbol\": {1}}),\n",
    "    (1, 0, {\"symbol\": {0}}),\n",
    "    (1, 3, {\"symbol\": {1}}),\n",
    "    (2, 0, {\"symbol\": {1}}),\n",
    "    (2, 3, {\"symbol\": {0}}),\n",
    "    (3, 2, {\"symbol\": {0}}),\n",
    "    (3, 1, {\"symbol\": {1}})\n",
    "])\n",
    "\n",
    "# 3. Instantiate a Dfa object\n",
    "dfa_explicit = parsers.Dfa(\"dfa_explicit\")\n",
    "\n",
    "# 4. Construct Dfa explicitly.\n",
    "dfa_explicit.construct_explicit(graph, init_st=0, final={0})"
   ]
  },
  {
   "cell_type": "markdown",
   "id": "86fbae8f",
   "metadata": {},
   "source": [
    "Once a `Dfa` object is constructed, we can access its methods and properties. Some commonly used methods, properties are \n",
    "\n",
    "* method: `delta(u, true_atoms)`: returns the state by following transition from state `u` enabled by `true_atoms`, which is the set of atoms in alphabet that are true. \n",
    "* method: `pred(v)`: returns a set of `(u, symbol)`-pairs such that state `v` can be reached from `u` given set of true atoms in `symbol`.  \n",
    "* method: `Dfa.succ(u)`: returns a set of `(v, symbol)`-pairs such that state `v` can be reached from `u` given set of true atoms `symbol`. \n",
    "* method: `states()`: returns set of states of Dfa\n",
    "* property: `alphabet`: returns the alphabet of Dfa\n",
    "* property: `init_st`: returns initial state of Dfa\n",
    "* property: `final`: returns final states of Dfa\n"
   ]
  },
  {
   "cell_type": "code",
   "execution_count": 3,
   "id": "71256f73",
   "metadata": {},
   "outputs": [
    {
     "name": "stdout",
     "output_type": "stream",
     "text": [
      "dfa_explicit.delta(0, 0) = 2\n",
      "dfa_explicit.pred(0) = {(1, frozenset({0})), (2, frozenset({1}))}\n",
      "dfa_explicit.succ(0) = {(1, frozenset({1})), (2, frozenset({0}))}\n",
      "dfa_explicit.alphabet = {0, 1}\n",
      "dfa_explicit.states() = [0, 1, 2, 3]\n",
      "dfa_explicit.init_st = 0\n",
      "dfa_explicit.final = {0}\n"
     ]
    }
   ],
   "source": [
    "print(f\"dfa_explicit.delta(0, {0}) = {dfa_explicit.delta(0, {0})}\")\n",
    "print(f\"dfa_explicit.pred(0) = {dfa_explicit.pred(0)}\")\n",
    "print(f\"dfa_explicit.succ(0) = {dfa_explicit.succ(0)}\")\n",
    "print(f\"dfa_explicit.alphabet = {dfa_explicit.alphabet}\")\n",
    "print(f\"dfa_explicit.states() = {dfa_explicit.states()}\")\n",
    "print(f\"dfa_explicit.init_st = {dfa_explicit.init_st}\")\n",
    "print(f\"dfa_explicit.final = {dfa_explicit.final}\")"
   ]
  },
  {
   "cell_type": "markdown",
   "id": "2da08478",
   "metadata": {},
   "source": [
    "We can effeciently represent DFA's transition function by observing: \n",
    "* On input `0` at state `i`, next state is `(i+2) mod 4`.\n",
    "* On input `1` at state `0 <= i < 2`, next state is `(i+1) mod 2`.\n",
    "* On input `1` at state `2 <= i < 4`, next state is `2 + ((i+1) mod 2)`.\n",
    "\n",
    "When transition function can be represented using such formulas, it is convenient to define DFA using `SYMBOLIC` mode."
   ]
  },
  {
   "cell_type": "code",
   "execution_count": 4,
   "id": "f85fa495",
   "metadata": {},
   "outputs": [],
   "source": [
    "# SYMBLIC MODE\n",
    "\n",
    "# 1. Define states, alphabet, init_st and final\n",
    "states = [0, 1, 2, 3]\n",
    "alphabet = {0, 1}\n",
    "init_st = 0\n",
    "final = {0}\n",
    "\n",
    "# 2. Define transition function\n",
    "def delta(u, true_atoms):\n",
    "    if set(true_atoms) == {0}:\n",
    "        return (u+2) % 4\n",
    "    elif 0 <= u < 2 and set(true_atoms) == {1}:\n",
    "        return (u+1) % 2\n",
    "    elif 2 <= u < 4 and set(true_atoms) == {1}:\n",
    "        return 2 + ((u+1) % 2)\n",
    "    else:\n",
    "        return None\n",
    "\n",
    "# 3. Instantiate Dfa object\n",
    "dfa_symbolic = parsers.Dfa(name=\"dfa_symbolic\")\n",
    "\n",
    "# 4. Construct Dfa\n",
    "dfa_symbolic.construct_symbolic(states, alphabet, delta, init_st, final)"
   ]
  },
  {
   "cell_type": "markdown",
   "id": "a4860f32",
   "metadata": {},
   "source": [
    "Regardless of whether DFA is constructed explicitly or implicitly, all properties of `Dfa` can be accessed in the same way. "
   ]
  },
  {
   "cell_type": "code",
   "execution_count": 5,
   "id": "37679592",
   "metadata": {},
   "outputs": [
    {
     "name": "stdout",
     "output_type": "stream",
     "text": [
      "dfa_symbolic.delta(0, 0) = 2\n",
      "dfa_symbolic.pred(0) = {(1, frozenset({1})), (2, frozenset({0}))}\n",
      "dfa_symbolic.succ(0) = {(1, frozenset({1})), (None, frozenset()), (2, frozenset({0})), (None, frozenset({0, 1}))}\n",
      "dfa_symbolic.alphabet = {0, 1}\n",
      "dfa_symbolic.states() = [0, 1, 2, 3]\n",
      "dfa_symbolic.init_st = 0\n",
      "dfa_symbolic.final = {0}\n"
     ]
    }
   ],
   "source": [
    "print(f\"dfa_symbolic.delta(0, {0}) = {dfa_symbolic.delta(0, {0})}\")\n",
    "print(f\"dfa_symbolic.pred(0) = {dfa_symbolic.pred(0)}\")\n",
    "print(f\"dfa_symbolic.succ(0) = {dfa_symbolic.succ(0)}\")\n",
    "print(f\"dfa_symbolic.alphabet = {dfa_symbolic.alphabet}\")\n",
    "print(f\"dfa_symbolic.states() = {dfa_symbolic.states()}\")\n",
    "print(f\"dfa_symbolic.init_st = {dfa_symbolic.init_st}\")\n",
    "print(f\"dfa_symbolic.final = {dfa_symbolic.final}\")"
   ]
  },
  {
   "cell_type": "markdown",
   "id": "b1c072b5",
   "metadata": {},
   "source": [
    "`Dfa` can be printed in summary or detail as follows. "
   ]
  },
  {
   "cell_type": "code",
   "execution_count": 6,
   "id": "1d033318",
   "metadata": {},
   "outputs": [
    {
     "name": "stderr",
     "output_type": "stream",
     "text": [
      "WARNING:automata.py:405:Output: <Dfa \"dfa_symbolic\">.delta(0, ()) -> None is not in Dfa states.\n",
      "WARNING:automata.py:405:Output: <Dfa \"dfa_symbolic\">.delta(0, (0, 1)) -> None is not in Dfa states.\n",
      "WARNING:automata.py:405:Output: <Dfa \"dfa_symbolic\">.delta(1, ()) -> None is not in Dfa states.\n",
      "WARNING:automata.py:405:Output: <Dfa \"dfa_symbolic\">.delta(1, (0, 1)) -> None is not in Dfa states.\n",
      "WARNING:automata.py:405:Output: <Dfa \"dfa_symbolic\">.delta(2, ()) -> None is not in Dfa states.\n",
      "WARNING:automata.py:405:Output: <Dfa \"dfa_symbolic\">.delta(2, (0, 1)) -> None is not in Dfa states.\n",
      "WARNING:automata.py:405:Output: <Dfa \"dfa_symbolic\">.delta(3, ()) -> None is not in Dfa states.\n",
      "WARNING:automata.py:405:Output: <Dfa \"dfa_symbolic\">.delta(3, (0, 1)) -> None is not in Dfa states.\n"
     ]
    },
    {
     "name": "stdout",
     "output_type": "stream",
     "text": [
      "<Dfa \"dfa_symbolic\">\n",
      "\n",
      "    This Dfa has 4 states.\n",
      "    Alphabet: {0, 1}\n",
      "    Starting state: 0\n",
      "    Accepting states: {0}\n",
      "    States: [0, 1, 2, 3]\n",
      "    Transition function:\n",
      "\t\t0 -- {} --> None\n",
      "\t\t0 -- {0} --> 2\n",
      "\t\t0 -- {1} --> 1\n",
      "\t\t0 -- {0, 1} --> None\n",
      "\t\t1 -- {} --> None\n",
      "\t\t1 -- {0} --> 3\n",
      "\t\t1 -- {1} --> 0\n",
      "\t\t1 -- {0, 1} --> None\n",
      "\t\t2 -- {} --> None\n",
      "\t\t2 -- {0} --> 0\n",
      "\t\t2 -- {1} --> 3\n",
      "\t\t2 -- {0, 1} --> None\n",
      "\t\t3 -- {} --> None\n",
      "\t\t3 -- {0} --> 1\n",
      "\t\t3 -- {1} --> 2\n",
      "\t\t3 -- {0, 1} --> None\n"
     ]
    }
   ],
   "source": [
    "# Print object type and name\n",
    "print(repr(dfa_symbolic))\n",
    "\n",
    "# Pretty print details.\n",
    "print(dfa_symbolic)"
   ]
  },
  {
   "cell_type": "markdown",
   "id": "b546d65b",
   "metadata": {},
   "source": [
    "The automata tool generates warnings when `Dfa` is not complete. Recall a DFA is incomplete when the transition function `delta` returns a `None` for some input $\\sigma \\in \\Sigma$ at some state $s \\in S$. "
   ]
  },
  {
   "cell_type": "markdown",
   "id": "fc6b0553",
   "metadata": {},
   "source": [
    "## Exercise 1 (The Protocol)\n",
    "\n",
    "For this exercise, we will follow example from Sect. 2.1 in \"Introduction to Automata Theory, Languages and Computation\" book. \n",
    "\n",
    "\n",
    "### Part A (The DFAs). \n",
    "\n",
    "Define the customer, bank and store DFAs as shown in Figure 2.1 in the book. You may choose either of the modes as you like. \n"
   ]
  },
  {
   "cell_type": "code",
   "execution_count": 14,
   "id": "42eb4d6d",
   "metadata": {},
   "outputs": [],
   "source": [
    "dfa_customer = None\n",
    "dfa_bank = None\n",
    "dfa_store = None"
   ]
  },
  {
   "cell_type": "markdown",
   "id": "ecc29780",
   "metadata": {},
   "source": [
    "### Part B (Complete the Incomplete DFA)\n",
    "\n",
    "Given a DFA, implement the function to determine whether DFA is complete. If not, implement the `complete` function to generate complete DFA by extending the transition function. \n",
    "\n",
    "*Hint: For completing DFA, you may want to define a new DFA by extending `delta` function of input DFA.*"
   ]
  },
  {
   "cell_type": "code",
   "execution_count": 16,
   "id": "809c6d51",
   "metadata": {},
   "outputs": [],
   "source": [
    "def is_complete(dfa):\n",
    "    pass\n",
    "\n",
    "def complete(dfa):\n",
    "    pass\n",
    "\n",
    "comp_dfa_customer = None\n",
    "comp_dfa_bank = None\n",
    "comp_dfa_store = None"
   ]
  },
  {
   "cell_type": "markdown",
   "id": "392dcf22",
   "metadata": {},
   "source": [
    "### Part C (Product DFA)\n",
    "\n",
    "Generate the product DFA as described in Sect. 2.1.4 of the book. "
   ]
  },
  {
   "cell_type": "code",
   "execution_count": 17,
   "id": "2ea713c4",
   "metadata": {},
   "outputs": [],
   "source": [
    "def product(dfa1, dfa2):\n",
    "    dfa = parsers.Dfa(name=f\"{repr(dfa1)} x {repr(dfa2)}\")\n",
    "    \n",
    "    # Implement.\n",
    "    \n",
    "    return dfa\n",
    "\n",
    "prod_dfa_cust_bank = product(comp_dfa_customer, comp_dfa_bank)\n",
    "prod_dfa = product(comp_dfa_store, prod_dfa_cust_bank)"
   ]
  },
  {
   "cell_type": "markdown",
   "id": "3abba9c0",
   "metadata": {},
   "source": [
    "### Part D (Validate Protocol)\n",
    "\n",
    "Use the product DFA to answer the following questions:\n",
    "\n",
    "1 What is the set of states unreachable from initial state?     \n",
    "2 What is the set of BAD states, from which the final state is not reachable? \n",
    "\n",
    "There are a few ways to answer these questions. You may choose whichever way you like. \n",
    "\n",
    "A. In `EXPLICIT` mode, you may use property `graph` to get the underlying graph of product DFA. You may find `descendants` and `reverse` functions in `networkx` useful. \n",
    "\n",
    "B. If you implemented your DFAs or product operation in `SYMBOLIC` mode and you want to use approach described in (A), then you may call `make_explicit` function to convert DFA from `SYMBOLIC` to `EXPLICIT` mode. Then, follow (A). \n",
    "\n",
    "C. You may implement a `descendant` function using `succ` function to answer 1st question. Similarly, you may implement an `ancestor` function using `pred` function to answer 2nd question. \n"
   ]
  },
  {
   "cell_type": "code",
   "execution_count": 18,
   "id": "18b49844",
   "metadata": {},
   "outputs": [],
   "source": [
    "# Your solution."
   ]
  },
  {
   "cell_type": "markdown",
   "id": "88e7b27d",
   "metadata": {},
   "source": [
    "## Exercise 2 (Plotting)\n",
    "\n",
    "It's easier to gain insight if we can visualize the `Dfa` graph. Use `networkx.draw` tool to plot the product `Dfa`. \n",
    "\n",
    "\n",
    "**Tips:**\n",
    "* If you constructed product DFA in symbolic mode, then graph must be made explicit before plotting. This is done using `Dfa.make_explicit` function, which changes the `Dfa` mode to `EXPLICIT`. \n",
    "\n",
    "* Given an explicit DFA, `Dfa.graph` property will return the `networkx.MultiDiGraph` object which may be used for plotting. \n"
   ]
  },
  {
   "cell_type": "code",
   "execution_count": null,
   "id": "1da97dff",
   "metadata": {},
   "outputs": [],
   "source": [
    "def draw(dfa):\n",
    "    pass"
   ]
  }
 ],
 "metadata": {
  "kernelspec": {
   "display_name": "Python 3 (ipykernel)",
   "language": "python",
   "name": "python3"
  },
  "language_info": {
   "codemirror_mode": {
    "name": "ipython",
    "version": 3
   },
   "file_extension": ".py",
   "mimetype": "text/x-python",
   "name": "python",
   "nbconvert_exporter": "python",
   "pygments_lexer": "ipython3",
   "version": "3.7.3"
  }
 },
 "nbformat": 4,
 "nbformat_minor": 5
}
