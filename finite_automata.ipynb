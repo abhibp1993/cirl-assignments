{
 "cells": [
  {
   "cell_type": "markdown",
   "id": "a77a27c9",
   "metadata": {},
   "source": [
    "# Regular Languages and Automata\n",
    "\n",
    "\n",
    "**Objectives:**\n",
    "1. Familiarize with graph representation of finite automata. \n",
    "\n",
    "2. Implement basic operations on finite automaton. \n",
    "\n",
    "3. Practice elementary proof techniques.\n",
    "\n",
    "\n",
    "**Reading:** Chap. 1. \n",
    "\n",
    "\n",
    "**Questions:**\n",
    "1. What is a state in finite automaton? What is a `dead` state? In our work, we generally refer to a dead state as a `sink` state.\n",
    "\n",
    "2. What is an alphabet? What is a string? What is a language?\n",
    "\n",
    "3. What is an incomplete automaton? How to complete an incomplete automaton?\n",
    "\n",
    "4. What is a regular language? What other types of languages exist? "
   ]
  },
  {
   "cell_type": "code",
   "execution_count": 1,
   "id": "5862bbc7",
   "metadata": {},
   "outputs": [],
   "source": [
    "import sys\n",
    "sys.path.extend(['/home/ggsolver', '/home/cirl-assignments'])\n",
    "\n",
    "import ggsolver"
   ]
  },
  {
   "cell_type": "code",
   "execution_count": 2,
   "id": "ad472672",
   "metadata": {},
   "outputs": [],
   "source": [
    "import logging\n",
    "logging.basicConfig(format=\"%(levelname)s:%(filename)s:%(lineno)d:%(message)s\",\n",
    "                   level=logging.INFO)"
   ]
  },
  {
   "cell_type": "markdown",
   "id": "ac298e8d",
   "metadata": {},
   "source": [
    "## DFA in `ggsolver`\n",
    "\n",
    "`ggsolver` is a python library containing set-based solvers for synthesis of winning strategies in two-player games on graphs. In these games, we use different types of automaton to capture the progress a player has made towards completing its task. \n",
    "\n",
    "`ggsolver` has two packages:\n",
    "* `ggsolver`: defines different types of games and their solvers.\n",
    "* `parsers`: defines different formal languages, their grammars and automata theoretic representations. \n",
    "\n",
    "In this notebook, we will focus on `parsers.automata` module that defines `Dfa` class. \n",
    "\n",
    "\n",
    "### Constructing a DFA.\n",
    "\n",
    "A `Dfa` object can be created in two ways. \n",
    "\n",
    "* `EXPLICIT`: `Dfa` object is created using a `networkx.MultiDiGraph` object. The graph must have edges labeled with `symbol` attribute that represents the set of atomic propositions that must be true to enable the edge. \n",
    "\n",
    "* `SYMBOLIC`: `Dfa` object is created by defining the components of $\\langle Q, \\Sigma, \\delta, q_0, F \\rangle$ in addition to the predecessor and successor functions. \n",
    "\n",
    "\n",
    "**Example 1 (EXPLICIT mode).** Consider a DFA with $\\Sigma = \\{0, 1\\}$ that accepts any word that has `00`."
   ]
  },
  {
   "cell_type": "code",
   "execution_count": 3,
   "id": "af5a55b3",
   "metadata": {},
   "outputs": [
    {
     "name": "stderr",
     "output_type": "stream",
     "text": [
      "WARNING:automata.py:320:Dfa transition function is incomplete. Function call<Dfa \"00-language-explicit\">.delta(No 0, ()) resulted in set().\n",
      "WARNING:automata.py:390:Output: <Dfa \"00-language-explicit\">.delta(No 0, ()) -> None is not in Dfa states.\n",
      "WARNING:automata.py:320:Dfa transition function is incomplete. Function call<Dfa \"00-language-explicit\">.delta(No 0, ('1', '0')) resulted in set().\n",
      "WARNING:automata.py:390:Output: <Dfa \"00-language-explicit\">.delta(No 0, ('1', '0')) -> None is not in Dfa states.\n",
      "WARNING:automata.py:320:Dfa transition function is incomplete. Function call<Dfa \"00-language-explicit\">.delta(One 0, ()) resulted in set().\n",
      "WARNING:automata.py:390:Output: <Dfa \"00-language-explicit\">.delta(One 0, ()) -> None is not in Dfa states.\n",
      "WARNING:automata.py:320:Dfa transition function is incomplete. Function call<Dfa \"00-language-explicit\">.delta(One 0, ('1', '0')) resulted in set().\n",
      "WARNING:automata.py:390:Output: <Dfa \"00-language-explicit\">.delta(One 0, ('1', '0')) -> None is not in Dfa states.\n",
      "WARNING:automata.py:320:Dfa transition function is incomplete. Function call<Dfa \"00-language-explicit\">.delta(Two 0, ()) resulted in set().\n",
      "WARNING:automata.py:390:Output: <Dfa \"00-language-explicit\">.delta(Two 0, ()) -> None is not in Dfa states.\n",
      "WARNING:automata.py:320:Dfa transition function is incomplete. Function call<Dfa \"00-language-explicit\">.delta(Two 0, ('1', '0')) resulted in set().\n",
      "WARNING:automata.py:390:Output: <Dfa \"00-language-explicit\">.delta(Two 0, ('1', '0')) -> None is not in Dfa states.\n"
     ]
    },
    {
     "name": "stdout",
     "output_type": "stream",
     "text": [
      "\n",
      "    This Dfa has 3 states.\n",
      "    Alphabet: {'1', '0'}\n",
      "    Starting state: No 0\n",
      "    Accepting states: {'Two 0'}\n",
      "    States: ['No 0', 'One 0', 'Two 0']\n",
      "    Transition function:\n",
      "\t\tNo 0 -- {} --> None\n",
      "\t\tNo 0 -- {'1'} --> No 0\n",
      "\t\tNo 0 -- {'0'} --> One 0\n",
      "\t\tNo 0 -- {'1', '0'} --> None\n",
      "\t\tOne 0 -- {} --> None\n",
      "\t\tOne 0 -- {'1'} --> No 0\n",
      "\t\tOne 0 -- {'0'} --> Two 0\n",
      "\t\tOne 0 -- {'1', '0'} --> None\n",
      "\t\tTwo 0 -- {} --> None\n",
      "\t\tTwo 0 -- {'1'} --> Two 0\n",
      "\t\tTwo 0 -- {'0'} --> Two 0\n",
      "\t\tTwo 0 -- {'1', '0'} --> None\n"
     ]
    }
   ],
   "source": [
    "# Importing `parsers` provides access to Dfa class.\n",
    "import parsers\n",
    "import networkx as nx\n",
    "\n",
    "# Define `Dfa` graph\n",
    "graph = nx.MultiDiGraph()\n",
    "graph.add_nodes_from([\"No 0\", \"One 0\", \"Two 0\"])\n",
    "graph.add_edges_from([\n",
    "    (\"No 0\", \"One 0\", {\"symbol\": \"0\"}),\n",
    "    (\"No 0\", \"No 0\", {\"symbol\": \"1\"}),\n",
    "    (\"One 0\", \"Two 0\", {\"symbol\": \"0\"}),\n",
    "    (\"One 0\", \"No 0\", {\"symbol\": \"1\"}),\n",
    "    (\"Two 0\", \"Two 0\", {\"symbol\": \"0\"}),\n",
    "    (\"Two 0\", \"Two 0\", {\"symbol\": \"1\"}),\n",
    "])\n",
    "\n",
    "# Instantiate a Dfa object\n",
    "dfa_exp = parsers.Dfa(name=\"00-language-explicit\")\n",
    "dfa_exp.construct_explicit(graph=graph, init_st=\"No 0\", final={\"Two 0\"})\n",
    "\n",
    "print(str(dfa_exp))"
   ]
  },
  {
   "cell_type": "markdown",
   "id": "e2fef387",
   "metadata": {},
   "source": [
    "**Example 2 (SYMBOLIC mode).** Let us see how the same DFA can be constructed in `SYMBOLIC` mode."
   ]
  },
  {
   "cell_type": "code",
   "execution_count": 4,
   "id": "79b9a5a8",
   "metadata": {},
   "outputs": [
    {
     "name": "stdout",
     "output_type": "stream",
     "text": [
      "\n",
      "    This Dfa has 3 states.\n",
      "    Alphabet: {'1', '0'}\n",
      "    Starting state: No 0\n",
      "    Accepting states: {'Two 0'}\n",
      "    States: ['No 0', 'One 0', 'Two 0']\n",
      "    Transition function:\n",
      "\t\tNo 0 -- {} --> No 0\n",
      "\t\tNo 0 -- {'1'} --> No 0\n",
      "\t\tNo 0 -- {'0'} --> One 0\n",
      "\t\tNo 0 -- {'1', '0'} --> No 0\n",
      "\t\tOne 0 -- {} --> One 0\n",
      "\t\tOne 0 -- {'1'} --> No 0\n",
      "\t\tOne 0 -- {'0'} --> Two 0\n",
      "\t\tOne 0 -- {'1', '0'} --> No 0\n",
      "\t\tTwo 0 -- {} --> Two 0\n",
      "\t\tTwo 0 -- {'1'} --> Two 0\n",
      "\t\tTwo 0 -- {'0'} --> Two 0\n",
      "\t\tTwo 0 -- {'1', '0'} --> Two 0\n"
     ]
    }
   ],
   "source": [
    "# Define components of Dfa tuple\n",
    "states = [\"No 0\", \"One 0\", \"Two 0\"]\n",
    "alphabet = {\"0\", \"1\"}\n",
    "init_st = \"No 0\"\n",
    "final = {\"Two 0\"}\n",
    "\n",
    "def delta(state, true_atoms):\n",
    "    if state == \"No 0\":\n",
    "        if set(true_atoms) == {\"0\"}:\n",
    "            return \"One 0\"\n",
    "        else: \n",
    "            return \"No 0\"\n",
    "    \n",
    "    elif state == \"One 0\":\n",
    "        if set(true_atoms) == {\"0\"}:\n",
    "            return \"Two 0\"\n",
    "        elif set(true_atoms) == set():\n",
    "            return \"One 0\"\n",
    "        else: \n",
    "            return \"No 0\"\n",
    "    \n",
    "    elif state == \"Two 0\":\n",
    "        return \"Two 0\"\n",
    "\n",
    "\n",
    "def pred(state):\n",
    "    if state == \"No 0\":\n",
    "        return {\n",
    "            (\"No 0\", {\"1\"}),\n",
    "            (\"No 0\", set()),\n",
    "            (\"One 0\", {\"1\"})\n",
    "        }\n",
    "    \n",
    "    elif state == \"One 0\":\n",
    "        return {\n",
    "            (\"No 0\", {\"0\"}),\n",
    "            (\"One 0\", set())\n",
    "        }\n",
    "    \n",
    "    elif state == \"Two 0\":\n",
    "        return {\n",
    "            (\"Two 0\", {\"1\"}),\n",
    "            (\"Two 0\", {\"0\"}),\n",
    "            (\"Two 0\", set()),\n",
    "            (\"One 0\", {\"0\"})\n",
    "        }\n",
    "\n",
    "\n",
    "def succ(state):\n",
    "    if state == \"No 0\":\n",
    "        return {\n",
    "            (\"No 0\", {\"1\"}),\n",
    "            (\"No 0\", set()),\n",
    "            (\"One 0\", {\"0\"})\n",
    "        }\n",
    "    \n",
    "    elif state == \"One 0\":\n",
    "        return {\n",
    "            (\"No 0\", {\"1\"}),\n",
    "            (\"One 0\", set())\n",
    "            (\"Two 0\", {\"0\"}),\n",
    "        }\n",
    "    \n",
    "    elif state == \"Two 0\":\n",
    "        return {\n",
    "            (\"Two 0\", {\"1\"}),\n",
    "            (\"Two 0\", {\"0\"}),\n",
    "            (\"Two 0\", set()),\n",
    "        }\n",
    "\n",
    "\n",
    "# Construct Dfa object\n",
    "dfa_sym = parsers.Dfa(name=\"00-language-symbolic\")\n",
    "dfa_sym.construct_symbolic(states=states, alphabet=alphabet, delta=delta, pred=pred, succ=succ, init_st=init_st, final=final)\n",
    "\n",
    "print(str(dfa_sym))"
   ]
  },
  {
   "cell_type": "markdown",
   "id": "bb9a4867",
   "metadata": {},
   "source": [
    "<div class=\"alert alert-block alert-warning\">\n",
    "<b>Remark:</b> Symbolic mode is very useful when defining operations over two `Dfa` objects such as union or intersection products. \n",
    "</div>"
   ]
  },
  {
   "cell_type": "markdown",
   "id": "003ad0f6",
   "metadata": {},
   "source": [
    "## Exercise 1 (Completing DFA)\n",
    "\n",
    "In example 1, several warnings are raised due to *incompleteness of automaton*. Implement the following functions \n",
    "* to check whether a given `Dfa` is complete.\n",
    "* to complete an incomplete `Dfa`. \n",
    "\n",
    "**Tips:**\n",
    "\n",
    "* `Dfa.states()` returns a generator over states in `Dfa`.\n",
    "* `Dfa.pred(v)` returns a set of (u, symbol)-pairs such that state `v` can be reached from `u` given set of true atoms `symbol`. \n",
    "* `Dfa.succ(u)` returns a set of (v, symbol)-pairs such that state `v` can be reached from `u` given set of true atoms `symbol`. \n",
    "* `Dfa.delta(v)` returns a state `v` that is reached from `u` given set of true atoms `symbol`. "
   ]
  },
  {
   "cell_type": "code",
   "execution_count": 5,
   "id": "39cf1e69",
   "metadata": {},
   "outputs": [
    {
     "name": "stdout",
     "output_type": "stream",
     "text": [
      "None\n",
      "None\n"
     ]
    }
   ],
   "source": [
    "def is_complete(dfa):\n",
    "    \"\"\"\n",
    "    Return `True` if complete, otherwise `False`.\n",
    "    \"\"\"\n",
    "    pass\n",
    "\n",
    "\n",
    "def complete(dfa):\n",
    "    \"\"\"\n",
    "    Completes an incomplete automaton.\n",
    "    \"\"\"\n",
    "    pass\n",
    "\n",
    "\n",
    "# Check output on example 1.\n",
    "print(is_complete(dfa_exp))\n",
    "print(str(complete(dfa_exp)))\n"
   ]
  },
  {
   "cell_type": "markdown",
   "id": "0cceddf6",
   "metadata": {},
   "source": [
    "## Exercise 2 (Sink State)\n",
    "\n",
    "In example 2, although `dfa_sym` is complete, it's behavior may not be as expected. Suppose that the input to DFA is from a hardware circuit, where input can either be \"0\" or \"1\". Thus, any `{}` or `{\"0\", \"1\"}` inputs are to be labeled as errorneous inputs. We may do this by introducing a `sink` state and redirecting transitions with any unexpected inputs to `sink`. \n",
    "\n",
    "Modify `delta, pred and succ` functions for `dfa_sym` to have a sink state and redirect all `{}` or `{\"0\", \"1\"}` transitions into sink. \n",
    "\n"
   ]
  },
  {
   "cell_type": "code",
   "execution_count": 6,
   "id": "1bda2fad",
   "metadata": {},
   "outputs": [
    {
     "name": "stderr",
     "output_type": "stream",
     "text": [
      "WARNING:automata.py:291:Skipping validation for <Dfa \"00-language-symbolic\"> during construct_explicit.\n",
      "WARNING:automata.py:390:Output: <Dfa \"00-language-symbolic\">.delta(No 0, ()) -> None is not in Dfa states.\n",
      "WARNING:automata.py:390:Output: <Dfa \"00-language-symbolic\">.delta(No 0, ('1',)) -> None is not in Dfa states.\n",
      "WARNING:automata.py:390:Output: <Dfa \"00-language-symbolic\">.delta(No 0, ('0',)) -> None is not in Dfa states.\n",
      "WARNING:automata.py:390:Output: <Dfa \"00-language-symbolic\">.delta(No 0, ('1', '0')) -> None is not in Dfa states.\n",
      "WARNING:automata.py:390:Output: <Dfa \"00-language-symbolic\">.delta(One 0, ()) -> None is not in Dfa states.\n",
      "WARNING:automata.py:390:Output: <Dfa \"00-language-symbolic\">.delta(One 0, ('1',)) -> None is not in Dfa states.\n",
      "WARNING:automata.py:390:Output: <Dfa \"00-language-symbolic\">.delta(One 0, ('0',)) -> None is not in Dfa states.\n",
      "WARNING:automata.py:390:Output: <Dfa \"00-language-symbolic\">.delta(One 0, ('1', '0')) -> None is not in Dfa states.\n",
      "WARNING:automata.py:390:Output: <Dfa \"00-language-symbolic\">.delta(Two 0, ()) -> None is not in Dfa states.\n",
      "WARNING:automata.py:390:Output: <Dfa \"00-language-symbolic\">.delta(Two 0, ('1',)) -> None is not in Dfa states.\n",
      "WARNING:automata.py:390:Output: <Dfa \"00-language-symbolic\">.delta(Two 0, ('0',)) -> None is not in Dfa states.\n",
      "WARNING:automata.py:390:Output: <Dfa \"00-language-symbolic\">.delta(Two 0, ('1', '0')) -> None is not in Dfa states.\n"
     ]
    },
    {
     "name": "stdout",
     "output_type": "stream",
     "text": [
      "\n",
      "    This Dfa has 3 states.\n",
      "    Alphabet: {'1', '0'}\n",
      "    Starting state: No 0\n",
      "    Accepting states: {'Two 0'}\n",
      "    States: ['No 0', 'One 0', 'Two 0']\n",
      "    Transition function:\n",
      "\t\tNo 0 -- {} --> None\n",
      "\t\tNo 0 -- {'1'} --> None\n",
      "\t\tNo 0 -- {'0'} --> None\n",
      "\t\tNo 0 -- {'1', '0'} --> None\n",
      "\t\tOne 0 -- {} --> None\n",
      "\t\tOne 0 -- {'1'} --> None\n",
      "\t\tOne 0 -- {'0'} --> None\n",
      "\t\tOne 0 -- {'1', '0'} --> None\n",
      "\t\tTwo 0 -- {} --> None\n",
      "\t\tTwo 0 -- {'1'} --> None\n",
      "\t\tTwo 0 -- {'0'} --> None\n",
      "\t\tTwo 0 -- {'1', '0'} --> None\n"
     ]
    }
   ],
   "source": [
    "def delta2(state, true_atoms):\n",
    "    pass\n",
    "\n",
    "def pred2(v):\n",
    "    pass\n",
    "\n",
    "def succ2(u):\n",
    "    pass\n",
    "\n",
    "\n",
    "dfa_00 = parsers.Dfa(name=\"00-language-symbolic\")\n",
    "dfa_00.construct_symbolic(states, alphabet, delta2, pred2, succ2, init_st, final, skip_validation=True)\n",
    "print(str(dfa_00))"
   ]
  },
  {
   "cell_type": "markdown",
   "id": "3313fce9",
   "metadata": {},
   "source": [
    "**Note 1:** Once a `Dfa` is constructed, it cannot be reconstructed. We must create a new instance of object to reconstruct it. \n",
    "\n",
    "**Note 2:** `skip_validation` input skips validation while constructing the `Dfa`.\n"
   ]
  },
  {
   "cell_type": "markdown",
   "id": "8b56c177",
   "metadata": {},
   "source": [
    "## Exercise 3 (Product of DFA)\n",
    "\n",
    "Define a complete `Dfa`, say `dfa_11`, with $\\Sigma = \\{\"0\", \"1\"\\}$ that accepts any word containing `11`. \n",
    "Given `dfa_00, dfa_11`, construct a `Dfa` that accepts any word containing `00` or `11`. Determine the type of product operation that must be used and implement it. "
   ]
  },
  {
   "cell_type": "code",
   "execution_count": 12,
   "id": "191ff930",
   "metadata": {},
   "outputs": [],
   "source": [
    "dfa_11 = parsers.Dfa(name=\"11-language\")"
   ]
  },
  {
   "cell_type": "code",
   "execution_count": 13,
   "id": "4d348a4b",
   "metadata": {},
   "outputs": [
    {
     "ename": "NameError",
     "evalue": "name 'parser' is not defined",
     "output_type": "error",
     "traceback": [
      "\u001b[0;31m---------------------------------------------------------------------------\u001b[0m",
      "\u001b[0;31mNameError\u001b[0m                                 Traceback (most recent call last)",
      "\u001b[0;32m/tmp/ipykernel_268/4100715780.py\u001b[0m in \u001b[0;36m<module>\u001b[0;34m\u001b[0m\n\u001b[1;32m      7\u001b[0m \u001b[0;34m\u001b[0m\u001b[0m\n\u001b[1;32m      8\u001b[0m \u001b[0;34m\u001b[0m\u001b[0m\n\u001b[0;32m----> 9\u001b[0;31m \u001b[0mprod_dfa\u001b[0m \u001b[0;34m=\u001b[0m \u001b[0mproduct\u001b[0m\u001b[0;34m(\u001b[0m\u001b[0mdfa_00\u001b[0m\u001b[0;34m,\u001b[0m \u001b[0mdfa_11\u001b[0m\u001b[0;34m)\u001b[0m\u001b[0;34m\u001b[0m\u001b[0;34m\u001b[0m\u001b[0m\n\u001b[0m\u001b[1;32m     10\u001b[0m \u001b[0mprint\u001b[0m\u001b[0;34m(\u001b[0m\u001b[0mstr\u001b[0m\u001b[0;34m(\u001b[0m\u001b[0mprod_dfa\u001b[0m\u001b[0;34m)\u001b[0m\u001b[0;34m)\u001b[0m\u001b[0;34m\u001b[0m\u001b[0;34m\u001b[0m\u001b[0m\n",
      "\u001b[0;32m/tmp/ipykernel_268/4100715780.py\u001b[0m in \u001b[0;36mproduct\u001b[0;34m(dfa1, dfa2)\u001b[0m\n\u001b[1;32m      1\u001b[0m \u001b[0;32mdef\u001b[0m \u001b[0mproduct\u001b[0m\u001b[0;34m(\u001b[0m\u001b[0mdfa1\u001b[0m\u001b[0;34m,\u001b[0m \u001b[0mdfa2\u001b[0m\u001b[0;34m)\u001b[0m\u001b[0;34m:\u001b[0m\u001b[0;34m\u001b[0m\u001b[0;34m\u001b[0m\u001b[0m\n\u001b[0;32m----> 2\u001b[0;31m     \u001b[0mdfa\u001b[0m \u001b[0;34m=\u001b[0m \u001b[0mparser\u001b[0m\u001b[0;34m.\u001b[0m\u001b[0mDfa\u001b[0m\u001b[0;34m(\u001b[0m\u001b[0mname\u001b[0m\u001b[0;34m=\u001b[0m\u001b[0;34mf\"{repr(dfa1)} x {repr(dfa2)}\"\u001b[0m\u001b[0;34m)\u001b[0m\u001b[0;34m\u001b[0m\u001b[0;34m\u001b[0m\u001b[0m\n\u001b[0m\u001b[1;32m      3\u001b[0m \u001b[0;34m\u001b[0m\u001b[0m\n\u001b[1;32m      4\u001b[0m     \u001b[0;31m# Implement.\u001b[0m\u001b[0;34m\u001b[0m\u001b[0;34m\u001b[0m\u001b[0;34m\u001b[0m\u001b[0m\n\u001b[1;32m      5\u001b[0m \u001b[0;34m\u001b[0m\u001b[0m\n",
      "\u001b[0;31mNameError\u001b[0m: name 'parser' is not defined"
     ]
    }
   ],
   "source": [
    "def product(dfa1, dfa2):\n",
    "    dfa = parsers.Dfa(name=f\"{repr(dfa1)} x {repr(dfa2)}\")\n",
    "    \n",
    "    # Implement.\n",
    "    \n",
    "    return dfa\n",
    "\n",
    "\n",
    "prod_dfa = product(dfa_00, dfa_11)\n",
    "print(str(prod_dfa))"
   ]
  },
  {
   "cell_type": "markdown",
   "id": "7d05dff1",
   "metadata": {},
   "source": [
    "## Exercise 4 (Plotting)\n",
    "\n",
    "It's easier to gain insight if we can visualize the `Dfa` graph. Use `networkx.draw` tool to plot the product `Dfa`. \n",
    "\n",
    "\n",
    "**Tips:**\n",
    "* If you constructed product DFA in symbolic mode, then graph must be made explicit before plotting. This is done using `Dfa.make_explicit` function. This function will requires complete `Dfa`. Also, `make_explicit` changes the `Dfa` mode to `EXPLICIT`. \n",
    "\n",
    "* Given an explicit DFA, `Dfa.graph` property will return the `networkx.MultiDiGraph` object which may be used for plotting. \n"
   ]
  },
  {
   "cell_type": "code",
   "execution_count": null,
   "id": "1bb3e25c",
   "metadata": {},
   "outputs": [],
   "source": [
    "def draw(dfa):\n",
    "    pass"
   ]
  }
 ],
 "metadata": {
  "kernelspec": {
   "display_name": "Python 3 (ipykernel)",
   "language": "python",
   "name": "python3"
  },
  "language_info": {
   "codemirror_mode": {
    "name": "ipython",
    "version": 3
   },
   "file_extension": ".py",
   "mimetype": "text/x-python",
   "name": "python",
   "nbconvert_exporter": "python",
   "pygments_lexer": "ipython3",
   "version": "3.7.3"
  }
 },
 "nbformat": 4,
 "nbformat_minor": 5
}
